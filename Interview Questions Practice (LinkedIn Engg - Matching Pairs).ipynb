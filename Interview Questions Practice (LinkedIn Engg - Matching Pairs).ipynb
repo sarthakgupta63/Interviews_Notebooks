{
 "cells": [
  {
   "cell_type": "markdown",
   "metadata": {},
   "source": [
    "# Practicing Python Interview Questions\n",
    "\n",
    "[Python interview with a LinkedIn engineer: Matching pairs](https://youtu.be/wBXZD436JAg?list=WL&t=79)"
   ]
  },
  {
   "cell_type": "markdown",
   "metadata": {},
   "source": [
    "## Q) Given a list positive whole no.s how would you find the pair of no which sums upto a given target no."
   ]
  },
  {
   "cell_type": "markdown",
   "metadata": {},
   "source": [
    "### My Approach\n",
    "\n",
    "_Naive Approach_ :\n",
    "_Time Compleity : O(n^2)_\n",
    "\n",
    "Iterate through the list over and over and summing a element with every other element."
   ]
  },
  {
   "cell_type": "code",
   "execution_count": 19,
   "metadata": {},
   "outputs": [
    {
     "data": {
      "text/plain": [
       "14"
      ]
     },
     "execution_count": 19,
     "metadata": {},
     "output_type": "execute_result"
    }
   ],
   "source": [
    "ex_list = [14, 13, 6, 7, 8, 10, 1, 2]\n",
    "target1 = 5\n",
    "target2 = 3\n",
    "ex_list[0]"
   ]
  },
  {
   "cell_type": "code",
   "execution_count": 20,
   "metadata": {},
   "outputs": [],
   "source": [
    "def sum_of_pair(lst, target):\n",
    "    res = 0\n",
    "    for i in range(len(lst)-1):\n",
    "        for num in lst[i+1 : ]:\n",
    "            res = lst[i] + num\n",
    "            if res == target:\n",
    "                print(f'We found it: {lst[i]} and {num}')\n",
    "                return\n",
    "    print(\"We couldn't any pair summing up to your target!\")\n",
    "    \n",
    "# Time Complexity = O(n^2)"
   ]
  },
  {
   "cell_type": "code",
   "execution_count": 21,
   "metadata": {},
   "outputs": [
    {
     "name": "stdout",
     "output_type": "stream",
     "text": [
      "We couldn't any pair summing up to your target!\n"
     ]
    }
   ],
   "source": [
    "sum_of_pair(ex_list, target1)"
   ]
  },
  {
   "cell_type": "code",
   "execution_count": 22,
   "metadata": {},
   "outputs": [
    {
     "name": "stdout",
     "output_type": "stream",
     "text": [
      "We found it: 1 and 2\n"
     ]
    }
   ],
   "source": [
    "sum_of_pair(ex_list, target2)"
   ]
  },
  {
   "cell_type": "code",
   "execution_count": 23,
   "metadata": {},
   "outputs": [],
   "source": [
    "# Using List Comprehension\n",
    "sum_pair_list = [(ex_list[i] + num) for i in range(len(ex_list)+1) for num in ex_list[i+1 : ]]"
   ]
  },
  {
   "cell_type": "code",
   "execution_count": 24,
   "metadata": {},
   "outputs": [
    {
     "data": {
      "text/plain": [
       "[27,\n",
       " 20,\n",
       " 21,\n",
       " 22,\n",
       " 24,\n",
       " 15,\n",
       " 16,\n",
       " 19,\n",
       " 20,\n",
       " 21,\n",
       " 23,\n",
       " 14,\n",
       " 15,\n",
       " 13,\n",
       " 14,\n",
       " 16,\n",
       " 7,\n",
       " 8,\n",
       " 15,\n",
       " 17,\n",
       " 8,\n",
       " 9,\n",
       " 18,\n",
       " 9,\n",
       " 10,\n",
       " 11,\n",
       " 12,\n",
       " 3]"
      ]
     },
     "execution_count": 24,
     "metadata": {},
     "output_type": "execute_result"
    }
   ],
   "source": [
    "sum_pair_list"
   ]
  },
  {
   "cell_type": "code",
   "execution_count": 25,
   "metadata": {},
   "outputs": [
    {
     "data": {
      "text/plain": [
       "False"
      ]
     },
     "execution_count": 25,
     "metadata": {},
     "output_type": "execute_result"
    }
   ],
   "source": [
    "target1 in sum_pair_list"
   ]
  },
  {
   "cell_type": "code",
   "execution_count": 26,
   "metadata": {},
   "outputs": [
    {
     "data": {
      "text/plain": [
       "True"
      ]
     },
     "execution_count": 26,
     "metadata": {},
     "output_type": "execute_result"
    }
   ],
   "source": [
    "target2 in sum_pair_list"
   ]
  },
  {
   "cell_type": "code",
   "execution_count": 27,
   "metadata": {},
   "outputs": [],
   "source": [
    "#"
   ]
  },
  {
   "cell_type": "code",
   "execution_count": 28,
   "metadata": {},
   "outputs": [],
   "source": [
    "#"
   ]
  },
  {
   "cell_type": "code",
   "execution_count": 29,
   "metadata": {},
   "outputs": [],
   "source": [
    "#"
   ]
  },
  {
   "cell_type": "markdown",
   "metadata": {},
   "source": [
    "### Interviewee's Approach -\n",
    "\n",
    "_Time Complexity : O(n)_\n",
    "\n",
    "Iterate through the list and put the numbers in kind of hash table for the first time.\n",
    "And then for each value in the list is subtracted by the target value to find the complement.\n",
    "And then check the hash table for the complement.\n",
    "\n",
    "In this approach the approach is optimized for time."
   ]
  },
  {
   "cell_type": "code",
   "execution_count": 30,
   "metadata": {},
   "outputs": [],
   "source": [
    "def optim_sum_pair(lst, target):\n",
    "    comp_list = []\n",
    "    for num in lst:\n",
    "        comp_list.append(target - num)\n",
    "        \n",
    "    for comp in comp_list:\n",
    "        if comp in lst:\n",
    "            return comp, target-comp\n",
    "    return \"Not Found!\""
   ]
  },
  {
   "cell_type": "code",
   "execution_count": 31,
   "metadata": {},
   "outputs": [
    {
     "data": {
      "text/plain": [
       "'Not Found!'"
      ]
     },
     "execution_count": 31,
     "metadata": {},
     "output_type": "execute_result"
    }
   ],
   "source": [
    "optim_sum_pair(ex_list, target1)"
   ]
  },
  {
   "cell_type": "code",
   "execution_count": 32,
   "metadata": {},
   "outputs": [
    {
     "data": {
      "text/plain": [
       "(2, 1)"
      ]
     },
     "execution_count": 32,
     "metadata": {},
     "output_type": "execute_result"
    }
   ],
   "source": [
    "optim_sum_pair(ex_list, target2)"
   ]
  },
  {
   "cell_type": "code",
   "execution_count": 33,
   "metadata": {},
   "outputs": [
    {
     "data": {
      "text/plain": [
       "(1, 14)"
      ]
     },
     "execution_count": 33,
     "metadata": {},
     "output_type": "execute_result"
    }
   ],
   "source": [
    "target3 = 15\n",
    "optim_sum_pair(ex_list, target3)"
   ]
  },
  {
   "cell_type": "code",
   "execution_count": 34,
   "metadata": {},
   "outputs": [],
   "source": [
    "# Updating code to return all valid pairs\n",
    "\n",
    "def optim_sum_pair_all(lst, target):\n",
    "    comp_list = []\n",
    "    res = []\n",
    "    for num in lst:\n",
    "        comp_list.append(target - num)\n",
    "        \n",
    "    for comp in comp_list:\n",
    "        if comp in lst:\n",
    "            res.append((comp, target-comp))\n",
    "    \n",
    "    if len(res)==0: \n",
    "        return \"Not Found!\"\n",
    "    else:\n",
    "        return res"
   ]
  },
  {
   "cell_type": "code",
   "execution_count": 35,
   "metadata": {},
   "outputs": [
    {
     "data": {
      "text/plain": [
       "[(1, 14), (2, 13), (8, 7), (7, 8), (14, 1), (13, 2)]"
      ]
     },
     "execution_count": 35,
     "metadata": {},
     "output_type": "execute_result"
    }
   ],
   "source": [
    "optim_sum_pair_all(ex_list, target3)"
   ]
  },
  {
   "cell_type": "code",
   "execution_count": 36,
   "metadata": {},
   "outputs": [],
   "source": [
    "# For further optimisation we could also use 'set'\n",
    "\n",
    "def optim_sum_pair_all_use_set(lst, target):\n",
    "    comp_list = []\n",
    "    res = []\n",
    "    for num in set(lst):\n",
    "        comp_list.append(target - num)\n",
    "        \n",
    "    for comp in comp_list:\n",
    "        if comp in set(lst):\n",
    "            res.append((comp, target-comp))\n",
    "    \n",
    "    if len(res)==0: \n",
    "        return \"Not Found!\"\n",
    "    else:\n",
    "        return res"
   ]
  },
  {
   "cell_type": "code",
   "execution_count": 37,
   "metadata": {},
   "outputs": [
    {
     "data": {
      "text/plain": [
       "[(11, 4), (10, 5), (5, 10), (4, 11)]"
      ]
     },
     "execution_count": 37,
     "metadata": {},
     "output_type": "execute_result"
    }
   ],
   "source": [
    "my_list = [1, 1, 2, 5, 7, 11, 30, 2, 11, 19, 6, 5, 1, 4, 2, 19, 10]\n",
    "optim_sum_pair_all_use_set(my_list, target3)"
   ]
  },
  {
   "cell_type": "code",
   "execution_count": 38,
   "metadata": {},
   "outputs": [
    {
     "data": {
      "text/plain": [
       "[(2, 1), (1, 2)]"
      ]
     },
     "execution_count": 38,
     "metadata": {},
     "output_type": "execute_result"
    }
   ],
   "source": [
    "optim_sum_pair_all_use_set(ex_list, target2)"
   ]
  },
  {
   "cell_type": "code",
   "execution_count": 39,
   "metadata": {},
   "outputs": [],
   "source": [
    "target4 = 41"
   ]
  },
  {
   "cell_type": "code",
   "execution_count": 40,
   "metadata": {},
   "outputs": [
    {
     "name": "stdout",
     "output_type": "stream",
     "text": [
      "CPU times: user 25 µs, sys: 1 µs, total: 26 µs\n",
      "Wall time: 31.9 µs\n"
     ]
    },
    {
     "data": {
      "text/plain": [
       "[(30, 11), (11, 30)]"
      ]
     },
     "execution_count": 40,
     "metadata": {},
     "output_type": "execute_result"
    }
   ],
   "source": [
    "%%time\n",
    "\n",
    "optim_sum_pair_all_use_set(my_list, target4)"
   ]
  },
  {
   "cell_type": "code",
   "execution_count": 41,
   "metadata": {},
   "outputs": [
    {
     "name": "stdout",
     "output_type": "stream",
     "text": [
      "CPU times: user 13 µs, sys: 1 µs, total: 14 µs\n",
      "Wall time: 17.2 µs\n"
     ]
    },
    {
     "data": {
      "text/plain": [
       "[(30, 11), (11, 30), (30, 11)]"
      ]
     },
     "execution_count": 41,
     "metadata": {},
     "output_type": "execute_result"
    }
   ],
   "source": [
    "%%time\n",
    "\n",
    "optim_sum_pair_all(my_list, target4)"
   ]
  },
  {
   "cell_type": "markdown",
   "metadata": {},
   "source": [
    "OOPS!!\n",
    "Seems like list is not large enough for the 'Set' to show a significant time saving."
   ]
  },
  {
   "cell_type": "code",
   "execution_count": 42,
   "metadata": {},
   "outputs": [
    {
     "data": {
      "text/plain": [
       "[(11, 1), (10, 2), (7, 5), (6, 6), (5, 7), (2, 10), (1, 11)]"
      ]
     },
     "execution_count": 42,
     "metadata": {},
     "output_type": "execute_result"
    }
   ],
   "source": [
    "target5 = 12\n",
    "optim_sum_pair_all_use_set(my_list, target5)"
   ]
  },
  {
   "cell_type": "code",
   "execution_count": 43,
   "metadata": {},
   "outputs": [
    {
     "data": {
      "text/plain": [
       "[(11, 1),\n",
       " (11, 1),\n",
       " (10, 2),\n",
       " (7, 5),\n",
       " (5, 7),\n",
       " (1, 11),\n",
       " (10, 2),\n",
       " (1, 11),\n",
       " (6, 6),\n",
       " (7, 5),\n",
       " (11, 1),\n",
       " (10, 2),\n",
       " (2, 10)]"
      ]
     },
     "execution_count": 43,
     "metadata": {},
     "output_type": "execute_result"
    }
   ],
   "source": [
    "optim_sum_pair_all(my_list, target5)"
   ]
  },
  {
   "cell_type": "markdown",
   "metadata": {},
   "source": [
    "### Taking on more test cases\n",
    "\n",
    "1. If there is only one number which is half of target. Like 6 in above example.\n",
    "2. If Target is an invalid number, i.e, 0 or -ve.\n",
    "3. And what if we don't want to get repeated pairs in different order.\n",
    "\n",
    "#### One should always be thinking for the edge cases"
   ]
  },
  {
   "cell_type": "code",
   "execution_count": 76,
   "metadata": {},
   "outputs": [],
   "source": [
    "def pair_sum(lst, target):\n",
    "    comp_list = []\n",
    "    res = []\n",
    "\n",
    "    if len(lst) > 1:\n",
    "        if target > 0:\n",
    "            for num in set(lst):\n",
    "                if target/num == 2:\n",
    "                    if lst.count(num) == 1:\n",
    "                        lst.remove(num)\n",
    "                        \n",
    "            for num in set(lst):\n",
    "                comp_list.append(target - num)\n",
    "\n",
    "            for comp in comp_list:\n",
    "                if comp in set(lst):\n",
    "                    res.append((comp, target-comp))\n",
    "                    comp_list.remove(target-comp)\n",
    "\n",
    "            if len(res)==0: \n",
    "                return \"Not Found!\"\n",
    "            else:\n",
    "                return res\n",
    "\n",
    "        else:\n",
    "            return \"Invalid Target Value!\"\n",
    "        \n",
    "    else:\n",
    "        return \"Not a Valid list!\""
   ]
  },
  {
   "cell_type": "code",
   "execution_count": 77,
   "metadata": {},
   "outputs": [
    {
     "data": {
      "text/plain": [
       "'Invalid Target Value!'"
      ]
     },
     "execution_count": 77,
     "metadata": {},
     "output_type": "execute_result"
    }
   ],
   "source": [
    "pair_sum([2, 2], -1)"
   ]
  },
  {
   "cell_type": "code",
   "execution_count": 82,
   "metadata": {},
   "outputs": [
    {
     "data": {
      "text/plain": [
       "[(2, 2)]"
      ]
     },
     "execution_count": 82,
     "metadata": {},
     "output_type": "execute_result"
    }
   ],
   "source": [
    "pair_sum([2, 2], 4)"
   ]
  },
  {
   "cell_type": "code",
   "execution_count": 78,
   "metadata": {},
   "outputs": [
    {
     "data": {
      "text/plain": [
       "[1, 2, 3, 4, 1, 2, 3]"
      ]
     },
     "execution_count": 78,
     "metadata": {},
     "output_type": "execute_result"
    }
   ],
   "source": [
    "list1=[1,2,3,4,5,1,2,3]\n",
    "list1.remove(5)\n",
    "list1"
   ]
  },
  {
   "cell_type": "code",
   "execution_count": 79,
   "metadata": {},
   "outputs": [
    {
     "data": {
      "text/plain": [
       "[(2, 2)]"
      ]
     },
     "execution_count": 79,
     "metadata": {},
     "output_type": "execute_result"
    }
   ],
   "source": [
    "optim_sum_pair_all_use_set([2], 4)"
   ]
  },
  {
   "cell_type": "code",
   "execution_count": 80,
   "metadata": {},
   "outputs": [
    {
     "data": {
      "text/plain": [
       "'Not a Valid list!'"
      ]
     },
     "execution_count": 80,
     "metadata": {},
     "output_type": "execute_result"
    }
   ],
   "source": [
    "pair_sum([2], 4)"
   ]
  },
  {
   "cell_type": "code",
   "execution_count": 85,
   "metadata": {},
   "outputs": [
    {
     "name": "stdout",
     "output_type": "stream",
     "text": [
      "CPU times: user 51 µs, sys: 7 µs, total: 58 µs\n",
      "Wall time: 344 µs\n"
     ]
    },
    {
     "data": {
      "text/plain": [
       "[(11, 1), (10, 2), (7, 5)]"
      ]
     },
     "execution_count": 85,
     "metadata": {},
     "output_type": "execute_result"
    }
   ],
   "source": [
    "%%time\n",
    "\n",
    "pair_sum(my_list, 12)"
   ]
  },
  {
   "cell_type": "code",
   "execution_count": 83,
   "metadata": {},
   "outputs": [],
   "source": [
    "#"
   ]
  },
  {
   "cell_type": "code",
   "execution_count": 84,
   "metadata": {},
   "outputs": [],
   "source": [
    "#"
   ]
  },
  {
   "cell_type": "code",
   "execution_count": null,
   "metadata": {},
   "outputs": [],
   "source": [
    "#"
   ]
  },
  {
   "cell_type": "markdown",
   "metadata": {},
   "source": [
    "# Interviewee's Final Code"
   ]
  },
  {
   "cell_type": "code",
   "execution_count": 48,
   "metadata": {},
   "outputs": [],
   "source": [
    "def find_pairs(values, target):\n",
    "    if target > 0:\n",
    "        value_dict = {}\n",
    "        \n",
    "        for value in values:\n",
    "            if value in value_dict:\n",
    "                value_dict[value] += 1\n",
    "            else:\n",
    "                value_dict[value] = 0\n",
    "        \n",
    "        for value in values:\n",
    "            target_compliment = target - value\n",
    "            if target_compliment in value_dict:\n",
    "                if target_compliment == value:\n",
    "                    if not value_dict[target_compliment] > 0:\n",
    "                        continue\n",
    "                return str(value) + \" and \" + str(target_compliment)\n",
    "                \n",
    "    return \"No valid Pairs\""
   ]
  },
  {
   "cell_type": "markdown",
   "metadata": {},
   "source": [
    "## Testing The Edge Cases"
   ]
  },
  {
   "cell_type": "code",
   "execution_count": 49,
   "metadata": {},
   "outputs": [
    {
     "name": "stdout",
     "output_type": "stream",
     "text": [
      "True\n"
     ]
    }
   ],
   "source": [
    "print(find_pairs(ex_list, 3) == \"1 and 2\")"
   ]
  },
  {
   "cell_type": "code",
   "execution_count": 50,
   "metadata": {},
   "outputs": [
    {
     "name": "stdout",
     "output_type": "stream",
     "text": [
      "True\n"
     ]
    }
   ],
   "source": [
    "print(find_pairs([14, 13, 6, 7, 8, 10, 1], 3) == \"No valid Pairs\")"
   ]
  },
  {
   "cell_type": "code",
   "execution_count": 51,
   "metadata": {},
   "outputs": [
    {
     "name": "stdout",
     "output_type": "stream",
     "text": [
      "True\n"
     ]
    }
   ],
   "source": [
    "print(find_pairs([2, 2], 4) == \"2 and 2\")"
   ]
  },
  {
   "cell_type": "code",
   "execution_count": 52,
   "metadata": {},
   "outputs": [
    {
     "name": "stdout",
     "output_type": "stream",
     "text": [
      "True\n"
     ]
    }
   ],
   "source": [
    "print(find_pairs([2], 4) == \"No valid Pairs\")"
   ]
  },
  {
   "cell_type": "code",
   "execution_count": 53,
   "metadata": {},
   "outputs": [
    {
     "name": "stdout",
     "output_type": "stream",
     "text": [
      "True\n"
     ]
    }
   ],
   "source": [
    "print(find_pairs([2, 2], -1) == \"No valid Pairs\")"
   ]
  },
  {
   "cell_type": "code",
   "execution_count": 54,
   "metadata": {},
   "outputs": [
    {
     "name": "stdout",
     "output_type": "stream",
     "text": [
      "True\n"
     ]
    }
   ],
   "source": [
    "print(find_pairs([14, 13, 6, 7, 8, 10, 1], 0) == \"No valid Pairs\")"
   ]
  },
  {
   "cell_type": "code",
   "execution_count": 55,
   "metadata": {},
   "outputs": [
    {
     "name": "stdout",
     "output_type": "stream",
     "text": [
      "True\n"
     ]
    }
   ],
   "source": [
    "print(find_pairs([14, 13, 6, 7, 8, 10, 1], 1) == \"No valid Pairs\")"
   ]
  },
  {
   "cell_type": "code",
   "execution_count": 56,
   "metadata": {},
   "outputs": [
    {
     "name": "stdout",
     "output_type": "stream",
     "text": [
      "True\n"
     ]
    }
   ],
   "source": [
    "print(find_pairs([], 4) == \"No valid Pairs\")"
   ]
  },
  {
   "cell_type": "code",
   "execution_count": 86,
   "metadata": {},
   "outputs": [
    {
     "name": "stdout",
     "output_type": "stream",
     "text": [
      "CPU times: user 10 µs, sys: 0 ns, total: 10 µs\n",
      "Wall time: 13.1 µs\n"
     ]
    },
    {
     "data": {
      "text/plain": [
       "'1 and 11'"
      ]
     },
     "execution_count": 86,
     "metadata": {},
     "output_type": "execute_result"
    }
   ],
   "source": [
    "%%time\n",
    "find_pairs(my_list, 12)"
   ]
  },
  {
   "cell_type": "code",
   "execution_count": null,
   "metadata": {},
   "outputs": [],
   "source": []
  }
 ],
 "metadata": {
  "kernelspec": {
   "display_name": "Python 3",
   "language": "python",
   "name": "python3"
  },
  "language_info": {
   "codemirror_mode": {
    "name": "ipython",
    "version": 3
   },
   "file_extension": ".py",
   "mimetype": "text/x-python",
   "name": "python",
   "nbconvert_exporter": "python",
   "pygments_lexer": "ipython3",
   "version": "3.7.3"
  }
 },
 "nbformat": 4,
 "nbformat_minor": 2
}
